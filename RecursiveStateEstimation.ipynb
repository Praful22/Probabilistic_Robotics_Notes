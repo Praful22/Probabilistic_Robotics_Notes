{
  "nbformat": 4,
  "nbformat_minor": 0,
  "metadata": {
    "colab": {
      "provenance": [],
      "authorship_tag": "ABX9TyOYseoJfTGbu+tttN9cZLNf",
      "include_colab_link": true
    },
    "kernelspec": {
      "name": "python3",
      "display_name": "Python 3"
    },
    "language_info": {
      "name": "python"
    }
  },
  "cells": [
    {
      "cell_type": "markdown",
      "metadata": {
        "id": "view-in-github",
        "colab_type": "text"
      },
      "source": [
        "<a href=\"https://colab.research.google.com/github/Praful22/Probabilistic_Robotics_Notes/blob/main/RecursiveStateEstimation.ipynb\" target=\"_parent\"><img src=\"https://colab.research.google.com/assets/colab-badge.svg\" alt=\"Open In Colab\"/></a>"
      ]
    },
    {
      "cell_type": "markdown",
      "source": [
        "## Robot Environment Interaction\n",
        "\n",
        "***STATE***: Collection of all aspects of the robot and its environment that can impact the future. Some states change over time and are called dynamic state whereas other states tend to remain static so called static states. States also includes variables regarding the robot itself, such as its pose(position and orientation), velocity, whether or not sensors are functioning correctly and so on. State will be denoted by $x$; and state at time $t$ will be denoted as $x_{t}$.\n",
        "\n",
        "***POSE:***\n",
        "1. **Robot Pose**: The robot pose comprises of its location and orientation relative to a global coordinate frame. Rigid mobile robots possess six such state varibales, three from cartesian coordinates and three for their angular orientation (pitch, roll, and yaw). For rigid mobile robots confined to planar environments, the pose is usually given by the three variables, its two location cooridnates in the plane and its heading direction(yaw).\n",
        "\n",
        "2. ***Robot Manipulation:*** Pose includes variables for the configuration of the robot's actuators. For instance, joint angles of the revolute joints. Each dof is a one-dimensional configuration at any point in time which is part of the kinematic state of the robot, referred as $\\textit{Kinematic State}$.\n",
        "\n",
        "3. ***Robot Velocity and Velocity of its joints:*** Dynamic State. A rigid robot moving through space is characterized by up to six velocity variables, one for each pose variables.\n",
        "\n",
        "4. ***Location and Features of Surrounding objects in the environments:*** Static states. Moving objects and people are dynamic states. These two entities possess their own kinematic and dynamic states.\n",
        "\n",
        "***Complete State:*** A state $x_t$ is defined as the complete state if it is the best predictor of the future.\n",
        "Completeness entails that knowledge of past states, measurements, or controls carry no additional information that would help us predict the future more accuratley.\n",
        "\n",
        "1.Completeness definition doesn't require the future to be a *deterministic* function of the state.\n",
        "2. No variables prior to $x_t$ may influence the stochastic evolution of future states, unless this dependence is mediated through $x_t$. Temporal processes that meet these conditions are known as Markov chains.\n",
        "\n"
      ],
      "metadata": {
        "id": "g-zzZ5c27cz6"
      }
    },
    {
      "cell_type": "markdown",
      "source": [
        "## Bayes Filters"
      ],
      "metadata": {
        "id": "7JoYc3YzAS7o"
      }
    },
    {
      "cell_type": "markdown",
      "source": [
        "## Mathematical Derivation of the Bayes Filter"
      ],
      "metadata": {
        "id": "P2sJg3C9ATCk"
      }
    },
    {
      "cell_type": "markdown",
      "source": [
        "## Representation and Computation"
      ],
      "metadata": {
        "id": "QN-xHqUgAm37"
      }
    },
    {
      "cell_type": "markdown",
      "source": [
        "## Representation and Computation"
      ],
      "metadata": {
        "id": "9dxtYvv8AnBn"
      }
    }
  ]
}