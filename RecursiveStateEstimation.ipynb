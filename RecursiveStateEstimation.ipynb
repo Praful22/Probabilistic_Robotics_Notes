{
  "nbformat": 4,
  "nbformat_minor": 0,
  "metadata": {
    "colab": {
      "provenance": [],
      "authorship_tag": "ABX9TyO37fpAjXijko9uHCY8mYra",
      "include_colab_link": true
    },
    "kernelspec": {
      "name": "python3",
      "display_name": "Python 3"
    },
    "language_info": {
      "name": "python"
    }
  },
  "cells": [
    {
      "cell_type": "markdown",
      "metadata": {
        "id": "view-in-github",
        "colab_type": "text"
      },
      "source": [
        "<a href=\"https://colab.research.google.com/github/Praful22/Probabilistic_Robotics_Notes/blob/main/RecursiveStateEstimation.ipynb\" target=\"_parent\"><img src=\"https://colab.research.google.com/assets/colab-badge.svg\" alt=\"Open In Colab\"/></a>"
      ]
    },
    {
      "cell_type": "markdown",
      "source": [
        "## Robot Environment Interaction\n",
        "\n"
      ],
      "metadata": {
        "id": "g-zzZ5c27cz6"
      }
    },
    {
      "cell_type": "markdown",
      "source": [
        "## Environment Interaction"
      ],
      "metadata": {
        "id": "_o8kYvM47jg1"
      }
    },
    {
      "cell_type": "markdown",
      "source": [
        "## Probabilistic Generative Laws"
      ],
      "metadata": {
        "id": "TeBADmJ5ASoL"
      }
    },
    {
      "cell_type": "markdown",
      "source": [
        "## Belief Distributions"
      ],
      "metadata": {
        "id": "CKYDEOTFASws"
      }
    },
    {
      "cell_type": "markdown",
      "source": [
        "## Bayes Filters"
      ],
      "metadata": {
        "id": "7JoYc3YzAS7o"
      }
    },
    {
      "cell_type": "markdown",
      "source": [
        "## Mathematical Derivation of the Bayes Filter"
      ],
      "metadata": {
        "id": "P2sJg3C9ATCk"
      }
    },
    {
      "cell_type": "markdown",
      "source": [
        "## The Markov Assumption"
      ],
      "metadata": {
        "id": "QN-xHqUgAm37"
      }
    },
    {
      "cell_type": "markdown",
      "source": [
        "## Representation and Computation"
      ],
      "metadata": {
        "id": "9dxtYvv8AnBn"
      }
    }
  ]
}